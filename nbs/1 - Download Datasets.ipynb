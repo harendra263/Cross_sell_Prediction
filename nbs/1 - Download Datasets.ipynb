{
 "cells": [
  {
   "cell_type": "code",
   "execution_count": 1,
   "id": "dbfe5916",
   "metadata": {},
   "outputs": [],
   "source": [
    "import pathlib"
   ]
  },
  {
   "cell_type": "code",
   "execution_count": 2,
   "id": "1d115845",
   "metadata": {},
   "outputs": [],
   "source": [
    "BASE_DIR = pathlib.Path().resolve().parent\n",
    "DATASET_DIR = BASE_DIR / 'datasets'\n",
    "EXPORT_DIR = DATASET_DIR / 'exports'\n",
    "EXPORT_DIR.mkdir(exist_ok=True, parents=True)\n",
    "TEST_DATASET_PATH = EXPORT_DIR / 'test.csv'\n",
    "TRAIN_DATASET_PATH = EXPORT_DIR / 'train.csv'\n",
    "ZIPS_DIR = DATASET_DIR / 'zips'\n",
    "ZIPS_DIR.mkdir(exist_ok=True, parents=True)\n",
    "\n",
    "TEST_ZIP_PATH = ZIPS_DIR / 'test.csv_yAFwdy2.zip'\n",
    "TRAIN_ZIP_PATH = ZIPS_DIR / 'train.csv_VsW9EGx.zip'"
   ]
  },
  {
   "cell_type": "code",
   "execution_count": 3,
   "id": "e23602e8",
   "metadata": {},
   "outputs": [],
   "source": [
    "TEST_ZIP = 'test.csv_yAFwdy2.zip'\n",
    "TRAIN_ZIP = 'train.csv_VsW9EGx.zip'"
   ]
  },
  {
   "cell_type": "code",
   "execution_count": 4,
   "id": "555ca1cf",
   "metadata": {},
   "outputs": [
    {
     "name": "stdout",
     "output_type": "stream",
     "text": [
      "  % Total    % Received % Xferd  Average Speed   Time    Time     Time  Current\n",
      "                                 Dload  Upload   Total   Spent    Left  Speed\n",
      "  0     0    0     0    0     0      0      0 --:--:-- --:--:-- --:--:--     0curl: (6) Could not resolve host: test.csv_yAFwdy2.zip\n",
      "  % Total    % Received % Xferd  Average Speed   Time    Time     Time  Current\n",
      "                                 Dload  Upload   Total   Spent    Left  Speed\n",
      "  0     0    0     0    0     0      0      0 --:--:-- --:--:-- --:--:--     0curl: (6) Could not resolve host: train.csv_VsW9EGx.zip\n"
     ]
    }
   ],
   "source": [
    "!curl $TEST_ZIP -o $TEST_ZIP_PATH\n",
    "!curl $TRAIN_ZIP -o $TRAIN_ZIP_PATH"
   ]
  },
  {
   "cell_type": "code",
   "execution_count": 6,
   "id": "5c932e24",
   "metadata": {},
   "outputs": [],
   "source": [
    "CLASSIFIER_DATASET = DATASET_DIR / 'input_dataset'\n",
    "TEST_CLASSIFIER_DIR = CLASSIFIER_DATASET / 'test-dataset'\n",
    "TRAIN_CLASSIFIER_DIR = CLASSIFIER_DATASET / 'train-dataset'\n",
    "SUBMISSION_DIR = CLASSIFIER_DATASET / 'submission-dataset'\n",
    "\n",
    "\n",
    "TEST_CLASSIFIER_DIR.mkdir(exist_ok=True, parents=True)\n",
    "TRAIN_CLASSIFIER_DIR.mkdir(exist_ok=True, parents=True)\n",
    "SUBMISSION_DIR.mkdir(exist_ok=True, parents=True)"
   ]
  },
  {
   "cell_type": "code",
   "execution_count": null,
   "id": "07adfdda",
   "metadata": {},
   "outputs": [],
   "source": [
    "!unzip -o $TEST_ZIP_PATH -d TEST_CLASSIFIER_DIR"
   ]
  },
  {
   "cell_type": "code",
   "execution_count": null,
   "id": "dafefb87",
   "metadata": {},
   "outputs": [],
   "source": [
    "!unzip -o $TRAIN_ZIP_PATH -d TRAIN_CLASSIFIER_DIR"
   ]
  },
  {
   "cell_type": "code",
   "execution_count": null,
   "id": "21ca369e",
   "metadata": {},
   "outputs": [],
   "source": []
  }
 ],
 "metadata": {
  "kernelspec": {
   "display_name": "Python 3 (ipykernel)",
   "language": "python",
   "name": "python3"
  },
  "language_info": {
   "codemirror_mode": {
    "name": "ipython",
    "version": 3
   },
   "file_extension": ".py",
   "mimetype": "text/x-python",
   "name": "python",
   "nbconvert_exporter": "python",
   "pygments_lexer": "ipython3",
   "version": "3.10.2"
  }
 },
 "nbformat": 4,
 "nbformat_minor": 5
}
